{
  "nbformat": 4,
  "nbformat_minor": 0,
  "metadata": {
    "colab": {
      "name": "DT_lin_las_ridg.ipynb",
      "provenance": []
    },
    "kernelspec": {
      "name": "python3",
      "display_name": "Python 3"
    },
    "language_info": {
      "name": "python"
    }
  },
  "cells": [
    {
      "cell_type": "code",
      "execution_count": null,
      "metadata": {
        "colab": {
          "base_uri": "https://localhost:8080/"
        },
        "id": "vrAyKnSknjam",
        "outputId": "5e55a9ed-103d-4d5f-8d64-12b8649de127"
      },
      "outputs": [
        {
          "output_type": "stream",
          "name": "stdout",
          "text": [
            "Requirement already satisfied: gdown in /usr/local/lib/python3.7/dist-packages (4.2.1)\n",
            "Collecting gdown\n",
            "  Downloading gdown-4.4.0.tar.gz (14 kB)\n",
            "  Installing build dependencies ... \u001b[?25l\u001b[?25hdone\n",
            "  Getting requirements to build wheel ... \u001b[?25l\u001b[?25hdone\n",
            "    Preparing wheel metadata ... \u001b[?25l\u001b[?25hdone\n",
            "Requirement already satisfied: six in /usr/local/lib/python3.7/dist-packages (from gdown) (1.15.0)\n",
            "Requirement already satisfied: beautifulsoup4 in /usr/local/lib/python3.7/dist-packages (from gdown) (4.6.3)\n",
            "Requirement already satisfied: tqdm in /usr/local/lib/python3.7/dist-packages (from gdown) (4.62.3)\n",
            "Requirement already satisfied: filelock in /usr/local/lib/python3.7/dist-packages (from gdown) (3.6.0)\n",
            "Requirement already satisfied: requests[socks] in /usr/local/lib/python3.7/dist-packages (from gdown) (2.23.0)\n",
            "Requirement already satisfied: certifi>=2017.4.17 in /usr/local/lib/python3.7/dist-packages (from requests[socks]->gdown) (2021.10.8)\n",
            "Requirement already satisfied: chardet<4,>=3.0.2 in /usr/local/lib/python3.7/dist-packages (from requests[socks]->gdown) (3.0.4)\n",
            "Requirement already satisfied: urllib3!=1.25.0,!=1.25.1,<1.26,>=1.21.1 in /usr/local/lib/python3.7/dist-packages (from requests[socks]->gdown) (1.24.3)\n",
            "Requirement already satisfied: idna<3,>=2.5 in /usr/local/lib/python3.7/dist-packages (from requests[socks]->gdown) (2.10)\n",
            "Requirement already satisfied: PySocks!=1.5.7,>=1.5.6 in /usr/local/lib/python3.7/dist-packages (from requests[socks]->gdown) (1.7.1)\n",
            "Building wheels for collected packages: gdown\n",
            "  Building wheel for gdown (PEP 517) ... \u001b[?25l\u001b[?25hdone\n",
            "  Created wheel for gdown: filename=gdown-4.4.0-py3-none-any.whl size=14774 sha256=25b5919f3c53f7efe11ad29ee3407657feaca81df2b2ead0f43433461733a6eb\n",
            "  Stored in directory: /tmp/pip-ephem-wheel-cache-x6nr5x7e/wheels/fb/c3/0e/c4d8ff8bfcb0461afff199471449f642179b74968c15b7a69c\n",
            "Successfully built gdown\n",
            "Installing collected packages: gdown\n",
            "  Attempting uninstall: gdown\n",
            "    Found existing installation: gdown 4.2.1\n",
            "    Uninstalling gdown-4.2.1:\n",
            "      Successfully uninstalled gdown-4.2.1\n",
            "Successfully installed gdown-4.4.0\n"
          ]
        }
      ],
      "source": [
        "!pip install --upgrade --no-cache-dir gdown"
      ]
    },
    {
      "cell_type": "code",
      "source": [
        "!gdown --id 1J0_HW4H8o8GBt53J7Dhh_oHOLP6_N_8h\n",
        "!unzip impressions.csv.zip"
      ],
      "metadata": {
        "colab": {
          "base_uri": "https://localhost:8080/"
        },
        "id": "jifSydX30RGB",
        "outputId": "4755fc28-9cde-48fe-d897-4fb3190592e5"
      },
      "execution_count": null,
      "outputs": [
        {
          "output_type": "stream",
          "name": "stdout",
          "text": [
            "/usr/local/lib/python3.7/dist-packages/gdown/cli.py:131: FutureWarning: Option `--id` was deprecated in version 4.3.1 and will be removed in 5.0. You don't need to pass it anymore to use a file ID.\n",
            "  category=FutureWarning,\n",
            "Downloading...\n",
            "From: https://drive.google.com/uc?id=1J0_HW4H8o8GBt53J7Dhh_oHOLP6_N_8h\n",
            "To: /content/impressions.csv.zip\n",
            "100% 1.71G/1.71G [00:12<00:00, 139MB/s]\n",
            "Archive:  impressions.csv.zip\n",
            "  inflating: reportinghour.csv       \n"
          ]
        }
      ]
    },
    {
      "cell_type": "code",
      "source": [
        "!pip install Fitter"
      ],
      "metadata": {
        "colab": {
          "base_uri": "https://localhost:8080/"
        },
        "id": "5czYWkJBLOft",
        "outputId": "1e3c1089-a458-4580-fb78-7cb32c58aae4"
      },
      "execution_count": null,
      "outputs": [
        {
          "output_type": "stream",
          "name": "stdout",
          "text": [
            "Collecting Fitter\n",
            "  Downloading fitter-1.4.0.tar.gz (27 kB)\n",
            "Collecting easydev\n",
            "  Downloading easydev-0.12.0.tar.gz (47 kB)\n",
            "\u001b[K     |████████████████████████████████| 47 kB 2.9 MB/s \n",
            "\u001b[?25hRequirement already satisfied: numpy in /usr/local/lib/python3.7/dist-packages (from Fitter) (1.21.5)\n",
            "Requirement already satisfied: matplotlib in /usr/local/lib/python3.7/dist-packages (from Fitter) (3.2.2)\n",
            "Requirement already satisfied: scipy>=0.18 in /usr/local/lib/python3.7/dist-packages (from Fitter) (1.4.1)\n",
            "Requirement already satisfied: pandas in /usr/local/lib/python3.7/dist-packages (from Fitter) (1.3.5)\n",
            "Requirement already satisfied: click in /usr/local/lib/python3.7/dist-packages (from Fitter) (7.1.2)\n",
            "Requirement already satisfied: joblib in /usr/local/lib/python3.7/dist-packages (from Fitter) (1.1.0)\n",
            "Collecting colorama\n",
            "  Downloading colorama-0.4.4-py2.py3-none-any.whl (16 kB)\n",
            "Requirement already satisfied: pexpect in /usr/local/lib/python3.7/dist-packages (from easydev->Fitter) (4.8.0)\n",
            "Collecting colorlog\n",
            "  Downloading colorlog-6.6.0-py2.py3-none-any.whl (11 kB)\n",
            "Requirement already satisfied: kiwisolver>=1.0.1 in /usr/local/lib/python3.7/dist-packages (from matplotlib->Fitter) (1.3.2)\n",
            "Requirement already satisfied: python-dateutil>=2.1 in /usr/local/lib/python3.7/dist-packages (from matplotlib->Fitter) (2.8.2)\n",
            "Requirement already satisfied: pyparsing!=2.0.4,!=2.1.2,!=2.1.6,>=2.0.1 in /usr/local/lib/python3.7/dist-packages (from matplotlib->Fitter) (3.0.7)\n",
            "Requirement already satisfied: cycler>=0.10 in /usr/local/lib/python3.7/dist-packages (from matplotlib->Fitter) (0.11.0)\n",
            "Requirement already satisfied: six>=1.5 in /usr/local/lib/python3.7/dist-packages (from python-dateutil>=2.1->matplotlib->Fitter) (1.15.0)\n",
            "Requirement already satisfied: pytz>=2017.3 in /usr/local/lib/python3.7/dist-packages (from pandas->Fitter) (2018.9)\n",
            "Requirement already satisfied: ptyprocess>=0.5 in /usr/local/lib/python3.7/dist-packages (from pexpect->easydev->Fitter) (0.7.0)\n",
            "Building wheels for collected packages: Fitter, easydev\n",
            "  Building wheel for Fitter (setup.py) ... \u001b[?25l\u001b[?25hdone\n",
            "  Created wheel for Fitter: filename=fitter-1.4.0-py3-none-any.whl size=25026 sha256=a9c271b76c1f4cf9e87ceee0686f6c9de5d6bb16b134d492ae310fc1f187fcde\n",
            "  Stored in directory: /root/.cache/pip/wheels/e1/98/16/e5263962f94fbfaad79902aa94652516caccc1f1d51509e853\n",
            "  Building wheel for easydev (setup.py) ... \u001b[?25l\u001b[?25hdone\n",
            "  Created wheel for easydev: filename=easydev-0.12.0-py3-none-any.whl size=64232 sha256=b43e966d421b9ec8691e3faff893cab9e6650032ef0609477e181f4dedd8e95d\n",
            "  Stored in directory: /root/.cache/pip/wheels/82/ab/83/fdfc4017ea44a585b6754752cc5f63f2d0d63fcc1317e7174b\n",
            "Successfully built Fitter easydev\n",
            "Installing collected packages: colorlog, colorama, easydev, Fitter\n",
            "Successfully installed Fitter-1.4.0 colorama-0.4.4 colorlog-6.6.0 easydev-0.12.0\n"
          ]
        }
      ]
    },
    {
      "cell_type": "code",
      "source": [
        "import pandas as pd\n",
        "import os\n",
        "import random\n",
        "import numpy as np\n",
        "from sklearn.model_selection import train_test_split, cross_validate\n",
        "from sklearn import preprocessing, linear_model\n",
        "from sklearn.ensemble import StackingRegressor, RandomForestRegressor, HistGradientBoostingRegressor\n",
        "from sklearn.tree import DecisionTreeRegressor\n",
        "from sklearn.pipeline import make_pipeline\n",
        "from sklearn.utils import shuffle\n",
        "from sklearn.compose import make_column_selector, make_column_transformer\n",
        "import matplotlib.pyplot as plt\n",
        "import joblib\n",
        "#%matplotlib notebook\n",
        "%matplotlib inline\n",
        "plt.style.use(\"seaborn\")"
      ],
      "metadata": {
        "id": "Mc5gkE_q71zE"
      },
      "execution_count": null,
      "outputs": []
    },
    {
      "cell_type": "code",
      "source": [
        "def set_seed():\n",
        "  # Set random seeds (for reproducibility requirement)\n",
        "  os.environ['PYTHONHASHSEED']=str(1)\n",
        "  np.random.seed(1)\n",
        "  random.seed(1)\n",
        "\n",
        "def read_data(f_name):\n",
        "  \n",
        "  p = 0.01  # 1% of the lines\n",
        "  # keep the header, then take only 1% of lines\n",
        "  # if random from [0,1] interval is greater than 0.01 the row will be skipped\n",
        "  df = pd.read_csv(\n",
        "          f_name,\n",
        "          header=0, \n",
        "          skiprows=lambda i: i>0 and random.random() > p)\n",
        "  return df"
      ],
      "metadata": {
        "id": "fRwnJocmMtSI"
      },
      "execution_count": null,
      "outputs": []
    },
    {
      "cell_type": "code",
      "source": [
        "f_name = 'reportinghour.csv'\n",
        "set_seed()\n",
        "data = read_data(f_name)"
      ],
      "metadata": {
        "id": "IVsBJwMaOb9U",
        "colab": {
          "base_uri": "https://localhost:8080/"
        },
        "outputId": "4ba5b958-8d13-4177-a476-9879aed9bbfa"
      },
      "execution_count": null,
      "outputs": [
        {
          "output_type": "stream",
          "name": "stderr",
          "text": [
            "/usr/local/lib/python3.7/dist-packages/ipykernel_launcher.py:3: DtypeWarning: Columns (6,24) have mixed types.Specify dtype option on import or set low_memory=False.\n",
            "  This is separate from the ipykernel package so we can avoid doing imports until\n"
          ]
        }
      ]
    },
    {
      "cell_type": "code",
      "source": [
        "data.columns"
      ],
      "metadata": {
        "id": "hD-z0JqmPFOY",
        "colab": {
          "base_uri": "https://localhost:8080/"
        },
        "outputId": "15d7979e-18a2-4c9c-f8b6-5d25277d9abf"
      },
      "execution_count": null,
      "outputs": [
        {
          "output_type": "execute_result",
          "data": {
            "text/plain": [
              "Index(['Id', 'CreativeId', 'ScreenId', 'VenueId', 'SupplierNetworkId',\n",
              "       'SupplierId', 'Province', 'Country', 'City', 'OrderId', 'LineId',\n",
              "       'AssignmentId', 'Date', 'Impressions', 'AdsServed', 'TotalPrice',\n",
              "       'OwnerId', 'CreatedOn', 'OwnerOrganizationId', 'NumberOfScreens',\n",
              "       'NetworkId', 'ProductId', 'PriceNoMarkup', 'ExchangeId', 'DealId',\n",
              "       'ModifiedOn', 'SyncedToRedshift', 'LastSyncedToRedshift',\n",
              "       'InvoiceItemId'],\n",
              "      dtype='object')"
            ]
          },
          "metadata": {},
          "execution_count": 6
        }
      ]
    },
    {
      "cell_type": "code",
      "source": [
        "'''\n",
        "id - optional\n",
        "creativeId - pandas label categorize (to group input, not in prediction data)\n",
        "screenId - pandas label categorize\n",
        "venueId - many to one mapping\n",
        "\n",
        "SupplierNetworkId - looks like the same but to be checked. If same, not relevant\n",
        "SupplierId - looks like the same but to be checked. If same, not relevant\n",
        "\n",
        "related to screen id\n",
        "Province - [Québec, Ontario] to be checked \n",
        "Country  - Canada to be checked\n",
        "city - [Montreal, Toronto]\n",
        "LineId - [511 552] to be checked\n",
        "Order ids - [182 212] to be checked\n",
        "Assignment id -  [122 133] to be checked\n",
        "\n",
        "Date - year, month, season, day, weekday/end, time(24hrs)\n",
        "\n",
        "impressions\n",
        "AdsServed - [40] to be checked\n",
        "TotalPrice - [0.0] to be checked\n",
        "OwnerId, OwnerOrganizationId, NumberOfScreens\t- 1 to be checked\n",
        "'''"
      ],
      "metadata": {
        "id": "qrU88YQAgxsX",
        "colab": {
          "base_uri": "https://localhost:8080/",
          "height": 126
        },
        "outputId": "f7a279d1-3c22-4c4f-f579-810621a5c9fc"
      },
      "execution_count": null,
      "outputs": [
        {
          "output_type": "execute_result",
          "data": {
            "application/vnd.google.colaboratory.intrinsic+json": {
              "type": "string"
            },
            "text/plain": [
              "'\\nid - optional\\ncreativeId - pandas label categorize (to group input, not in prediction data)\\nscreenId - pandas label categorize\\nvenueId - many to one mapping\\n\\nSupplierNetworkId - looks like the same but to be checked. If same, not relevant\\nSupplierId - looks like the same but to be checked. If same, not relevant\\n\\nrelated to screen id\\nProvince - [Québec, Ontario] to be checked \\nCountry  - Canada to be checked\\ncity - [Montreal, Toronto]\\nLineId - [511 552] to be checked\\nOrder ids - [182 212] to be checked\\nAssignment id -  [122 133] to be checked\\n\\nDate - year, month, season, day, weekday/end, time(24hrs)\\n\\nimpressions\\nAdsServed - [40] to be checked\\nTotalPrice - [0.0] to be checked\\nOwnerId, OwnerOrganizationId, NumberOfScreens\\t- 1 to be checked\\n'"
            ]
          },
          "metadata": {},
          "execution_count": 6
        }
      ]
    },
    {
      "cell_type": "code",
      "source": [
        "# print(\"Country names: \", np.unique(data['Country']))  #ignore country\n",
        "# print(\"City names: \", np.unique(data['City']))\n",
        "# print(\"Order ids: \", np.unique(data.OrderId))\n",
        "# print(\"Line ids: \", np.unique(data.LineId))\n",
        "# print(\"Assignment id: \", np.unique(data.AssignmentId))\n",
        "# print(\"Screen ids: \", np.unique(data.ScreenId))\n",
        "\n",
        "# def select(data):\n",
        "#   selected_cols = []\n",
        "#   for n in data.columns:\n",
        "#     if len(np.unique(data[n])) >= 30:\n",
        "#       selected_cols.append(True)\n",
        "#     else:\n",
        "#       selected_cols.append(False)\n",
        "#   return selected_cols\n",
        "\n",
        "data = data.dropna(axis=1,how='all')\n",
        "# ignore features that has unique values less than 30\n",
        "# selected_cols = select(data)\n",
        "# data = data.loc[:,selected_cols]\n",
        "# convert date to features. \n",
        "data['Date'] = pd.to_datetime(data['Date'], format='%Y-%m-%d %H:%M:%S +00:00')\n",
        "assert data['Date'].isnull().sum() == 0, \"missing Date\"\n",
        "# data['Date_year'] = data['Date'].dt.year\n",
        "# data['Date_month'] = data['Date'].dt.month\n",
        "# data['Date_week'] = data['Date'].dt.isocalendar().week\n",
        "# data['Date_day'] = data['Date'].dt.day\n",
        "data['Date_hour'] = data['Date'].dt.hour\n",
        "data['Date_dayofweek'] = data['Date'].dt.dayofweek\n"
      ],
      "metadata": {
        "id": "ynpUi4UAPFtW"
      },
      "execution_count": null,
      "outputs": []
    },
    {
      "cell_type": "code",
      "source": [
        "# data.to_csv(os.path.join(os.getcwd(), 'processed.csv'), index=False)"
      ],
      "metadata": {
        "id": "NZMnauO-bzH8"
      },
      "execution_count": null,
      "outputs": []
    },
    {
      "cell_type": "code",
      "source": [
        "# ignored 'CreatedOn' and 'PriceNoMarkup' features\n",
        "# and deleted the Date column\n",
        "data = data[np.array(['Id', 'ScreenId', 'VenueId', 'City', 'Impressions', 'NumberOfScreens', 'Date_hour', 'Date_dayofweek'])]\n",
        "data"
      ],
      "metadata": {
        "colab": {
          "base_uri": "https://localhost:8080/",
          "height": 424
        },
        "id": "i2Ac66hSgLZ6",
        "outputId": "72d65aa0-44e0-4b0e-fca0-424f6f070c8e"
      },
      "execution_count": null,
      "outputs": [
        {
          "output_type": "execute_result",
          "data": {
            "text/html": [
              "\n",
              "  <div id=\"df-15a61bad-b46d-449e-9337-6f935778715b\">\n",
              "    <div class=\"colab-df-container\">\n",
              "      <div>\n",
              "<style scoped>\n",
              "    .dataframe tbody tr th:only-of-type {\n",
              "        vertical-align: middle;\n",
              "    }\n",
              "\n",
              "    .dataframe tbody tr th {\n",
              "        vertical-align: top;\n",
              "    }\n",
              "\n",
              "    .dataframe thead th {\n",
              "        text-align: right;\n",
              "    }\n",
              "</style>\n",
              "<table border=\"1\" class=\"dataframe\">\n",
              "  <thead>\n",
              "    <tr style=\"text-align: right;\">\n",
              "      <th></th>\n",
              "      <th>Id</th>\n",
              "      <th>ScreenId</th>\n",
              "      <th>VenueId</th>\n",
              "      <th>City</th>\n",
              "      <th>Impressions</th>\n",
              "      <th>NumberOfScreens</th>\n",
              "      <th>Date_hour</th>\n",
              "      <th>Date_dayofweek</th>\n",
              "    </tr>\n",
              "  </thead>\n",
              "  <tbody>\n",
              "    <tr>\n",
              "      <th>0</th>\n",
              "      <td>7028764</td>\n",
              "      <td>2231</td>\n",
              "      <td>911</td>\n",
              "      <td>Montréal</td>\n",
              "      <td>0.000000</td>\n",
              "      <td>1</td>\n",
              "      <td>21</td>\n",
              "      <td>4</td>\n",
              "    </tr>\n",
              "    <tr>\n",
              "      <th>1</th>\n",
              "      <td>7028842</td>\n",
              "      <td>1777</td>\n",
              "      <td>911</td>\n",
              "      <td>Montréal</td>\n",
              "      <td>14.000000</td>\n",
              "      <td>1</td>\n",
              "      <td>3</td>\n",
              "      <td>1</td>\n",
              "    </tr>\n",
              "    <tr>\n",
              "      <th>2</th>\n",
              "      <td>7028930</td>\n",
              "      <td>1777</td>\n",
              "      <td>911</td>\n",
              "      <td>Montréal</td>\n",
              "      <td>21.760000</td>\n",
              "      <td>1</td>\n",
              "      <td>19</td>\n",
              "      <td>3</td>\n",
              "    </tr>\n",
              "    <tr>\n",
              "      <th>3</th>\n",
              "      <td>7029138</td>\n",
              "      <td>1777</td>\n",
              "      <td>911</td>\n",
              "      <td>Montréal</td>\n",
              "      <td>7.260000</td>\n",
              "      <td>1</td>\n",
              "      <td>8</td>\n",
              "      <td>3</td>\n",
              "    </tr>\n",
              "    <tr>\n",
              "      <th>4</th>\n",
              "      <td>7029215</td>\n",
              "      <td>1451</td>\n",
              "      <td>746</td>\n",
              "      <td>Toronto</td>\n",
              "      <td>3.630000</td>\n",
              "      <td>1</td>\n",
              "      <td>0</td>\n",
              "      <td>4</td>\n",
              "    </tr>\n",
              "    <tr>\n",
              "      <th>...</th>\n",
              "      <td>...</td>\n",
              "      <td>...</td>\n",
              "      <td>...</td>\n",
              "      <td>...</td>\n",
              "      <td>...</td>\n",
              "      <td>...</td>\n",
              "      <td>...</td>\n",
              "      <td>...</td>\n",
              "    </tr>\n",
              "    <tr>\n",
              "      <th>554492</th>\n",
              "      <td>62977823</td>\n",
              "      <td>1933253</td>\n",
              "      <td>169122</td>\n",
              "      <td>Overland Park</td>\n",
              "      <td>2.000000</td>\n",
              "      <td>1</td>\n",
              "      <td>1</td>\n",
              "      <td>5</td>\n",
              "    </tr>\n",
              "    <tr>\n",
              "      <th>554493</th>\n",
              "      <td>62977936</td>\n",
              "      <td>1239355</td>\n",
              "      <td>46041</td>\n",
              "      <td>Lees Summit</td>\n",
              "      <td>39.408253</td>\n",
              "      <td>1</td>\n",
              "      <td>2</td>\n",
              "      <td>5</td>\n",
              "    </tr>\n",
              "    <tr>\n",
              "      <th>554494</th>\n",
              "      <td>62978110</td>\n",
              "      <td>1241710</td>\n",
              "      <td>47041</td>\n",
              "      <td>Auburn</td>\n",
              "      <td>6.568704</td>\n",
              "      <td>1</td>\n",
              "      <td>2</td>\n",
              "      <td>5</td>\n",
              "    </tr>\n",
              "    <tr>\n",
              "      <th>554495</th>\n",
              "      <td>62978264</td>\n",
              "      <td>1336965</td>\n",
              "      <td>71604</td>\n",
              "      <td>NaN</td>\n",
              "      <td>12.189752</td>\n",
              "      <td>1</td>\n",
              "      <td>2</td>\n",
              "      <td>5</td>\n",
              "    </tr>\n",
              "    <tr>\n",
              "      <th>554496</th>\n",
              "      <td>62978283</td>\n",
              "      <td>1336940</td>\n",
              "      <td>71579</td>\n",
              "      <td>NaN</td>\n",
              "      <td>18.272810</td>\n",
              "      <td>1</td>\n",
              "      <td>2</td>\n",
              "      <td>5</td>\n",
              "    </tr>\n",
              "  </tbody>\n",
              "</table>\n",
              "<p>554497 rows × 8 columns</p>\n",
              "</div>\n",
              "      <button class=\"colab-df-convert\" onclick=\"convertToInteractive('df-15a61bad-b46d-449e-9337-6f935778715b')\"\n",
              "              title=\"Convert this dataframe to an interactive table.\"\n",
              "              style=\"display:none;\">\n",
              "        \n",
              "  <svg xmlns=\"http://www.w3.org/2000/svg\" height=\"24px\"viewBox=\"0 0 24 24\"\n",
              "       width=\"24px\">\n",
              "    <path d=\"M0 0h24v24H0V0z\" fill=\"none\"/>\n",
              "    <path d=\"M18.56 5.44l.94 2.06.94-2.06 2.06-.94-2.06-.94-.94-2.06-.94 2.06-2.06.94zm-11 1L8.5 8.5l.94-2.06 2.06-.94-2.06-.94L8.5 2.5l-.94 2.06-2.06.94zm10 10l.94 2.06.94-2.06 2.06-.94-2.06-.94-.94-2.06-.94 2.06-2.06.94z\"/><path d=\"M17.41 7.96l-1.37-1.37c-.4-.4-.92-.59-1.43-.59-.52 0-1.04.2-1.43.59L10.3 9.45l-7.72 7.72c-.78.78-.78 2.05 0 2.83L4 21.41c.39.39.9.59 1.41.59.51 0 1.02-.2 1.41-.59l7.78-7.78 2.81-2.81c.8-.78.8-2.07 0-2.86zM5.41 20L4 18.59l7.72-7.72 1.47 1.35L5.41 20z\"/>\n",
              "  </svg>\n",
              "      </button>\n",
              "      \n",
              "  <style>\n",
              "    .colab-df-container {\n",
              "      display:flex;\n",
              "      flex-wrap:wrap;\n",
              "      gap: 12px;\n",
              "    }\n",
              "\n",
              "    .colab-df-convert {\n",
              "      background-color: #E8F0FE;\n",
              "      border: none;\n",
              "      border-radius: 50%;\n",
              "      cursor: pointer;\n",
              "      display: none;\n",
              "      fill: #1967D2;\n",
              "      height: 32px;\n",
              "      padding: 0 0 0 0;\n",
              "      width: 32px;\n",
              "    }\n",
              "\n",
              "    .colab-df-convert:hover {\n",
              "      background-color: #E2EBFA;\n",
              "      box-shadow: 0px 1px 2px rgba(60, 64, 67, 0.3), 0px 1px 3px 1px rgba(60, 64, 67, 0.15);\n",
              "      fill: #174EA6;\n",
              "    }\n",
              "\n",
              "    [theme=dark] .colab-df-convert {\n",
              "      background-color: #3B4455;\n",
              "      fill: #D2E3FC;\n",
              "    }\n",
              "\n",
              "    [theme=dark] .colab-df-convert:hover {\n",
              "      background-color: #434B5C;\n",
              "      box-shadow: 0px 1px 3px 1px rgba(0, 0, 0, 0.15);\n",
              "      filter: drop-shadow(0px 1px 2px rgba(0, 0, 0, 0.3));\n",
              "      fill: #FFFFFF;\n",
              "    }\n",
              "  </style>\n",
              "\n",
              "      <script>\n",
              "        const buttonEl =\n",
              "          document.querySelector('#df-15a61bad-b46d-449e-9337-6f935778715b button.colab-df-convert');\n",
              "        buttonEl.style.display =\n",
              "          google.colab.kernel.accessAllowed ? 'block' : 'none';\n",
              "\n",
              "        async function convertToInteractive(key) {\n",
              "          const element = document.querySelector('#df-15a61bad-b46d-449e-9337-6f935778715b');\n",
              "          const dataTable =\n",
              "            await google.colab.kernel.invokeFunction('convertToInteractive',\n",
              "                                                     [key], {});\n",
              "          if (!dataTable) return;\n",
              "\n",
              "          const docLinkHtml = 'Like what you see? Visit the ' +\n",
              "            '<a target=\"_blank\" href=https://colab.research.google.com/notebooks/data_table.ipynb>data table notebook</a>'\n",
              "            + ' to learn more about interactive tables.';\n",
              "          element.innerHTML = '';\n",
              "          dataTable['output_type'] = 'display_data';\n",
              "          await google.colab.output.renderOutput(dataTable, element);\n",
              "          const docLink = document.createElement('div');\n",
              "          docLink.innerHTML = docLinkHtml;\n",
              "          element.appendChild(docLink);\n",
              "        }\n",
              "      </script>\n",
              "    </div>\n",
              "  </div>\n",
              "  "
            ],
            "text/plain": [
              "              Id  ScreenId  VenueId  ... NumberOfScreens  Date_hour  Date_dayofweek\n",
              "0        7028764      2231      911  ...               1         21               4\n",
              "1        7028842      1777      911  ...               1          3               1\n",
              "2        7028930      1777      911  ...               1         19               3\n",
              "3        7029138      1777      911  ...               1          8               3\n",
              "4        7029215      1451      746  ...               1          0               4\n",
              "...          ...       ...      ...  ...             ...        ...             ...\n",
              "554492  62977823   1933253   169122  ...               1          1               5\n",
              "554493  62977936   1239355    46041  ...               1          2               5\n",
              "554494  62978110   1241710    47041  ...               1          2               5\n",
              "554495  62978264   1336965    71604  ...               1          2               5\n",
              "554496  62978283   1336940    71579  ...               1          2               5\n",
              "\n",
              "[554497 rows x 8 columns]"
            ]
          },
          "metadata": {},
          "execution_count": 9
        }
      ]
    },
    {
      "cell_type": "code",
      "source": [
        "# data['Id'] = data['Id'].astype('object')\n",
        "# data['ScreenId'] = data['ScreenId'].astype('object')\n",
        "# data['VenueId'] = data['VenueId'].astype('object')\n",
        "# data['OrderId'] = data['OrderId'].astype('object')\n",
        "# data['LineId'] = data['LineId'].astype('object')\n",
        "# data['AssignmentId'] = data['AssignmentId'].astype('object')"
      ],
      "metadata": {
        "id": "kEd-2rEXkrZH"
      },
      "execution_count": null,
      "outputs": []
    },
    {
      "cell_type": "code",
      "source": [
        "data.dtypes"
      ],
      "metadata": {
        "id": "9LwClts7mL8g"
      },
      "execution_count": null,
      "outputs": []
    },
    {
      "cell_type": "code",
      "source": [
        "X = data[['ScreenId', 'VenueId', 'City', 'NumberOfScreens', 'Date_hour', 'Date_dayofweek']]\n",
        "y = data['Impressions']\n",
        "X, y = shuffle(X, y)\n",
        "label_encoder = preprocessing.LabelEncoder()\n",
        "normalizer = preprocessing.StandardScaler()\n",
        "# Ord_enc = preprocessing.OrdinalEncoder()\n",
        "X['City'] = label_encoder.fit_transform(X['City'])\n",
        "X['Date_hour'] = (X['Date_hour'] - np.mean(X['Date_hour'])) / np.std(X['Date_hour']) \n",
        "X['Date_dayofweek'] = (X['Date_dayofweek'] - np.mean(X['Date_dayofweek'])) / np.std(X['Date_dayofweek'])\n",
        "X['NumberOfScreens'] = (X['NumberOfScreens'] - np.mean(X['NumberOfScreens'])) / np.std(X['NumberOfScreens'])\n",
        "X_train, X_test, y_train, y_test = train_test_split(X, y, test_size = 0.3, random_state = 42)\n"
      ],
      "metadata": {
        "id": "b4en5tZxWVkl"
      },
      "execution_count": null,
      "outputs": []
    },
    {
      "cell_type": "code",
      "source": [
        "X_test"
      ],
      "metadata": {
        "colab": {
          "base_uri": "https://localhost:8080/",
          "height": 424
        },
        "id": "sAIOT3H8Cepf",
        "outputId": "0f9360c7-3c80-4eda-ca8f-cedd59c72b47"
      },
      "execution_count": null,
      "outputs": [
        {
          "output_type": "execute_result",
          "data": {
            "text/html": [
              "\n",
              "  <div id=\"df-88b298e3-c406-4b85-9fa6-78e6735169ad\">\n",
              "    <div class=\"colab-df-container\">\n",
              "      <div>\n",
              "<style scoped>\n",
              "    .dataframe tbody tr th:only-of-type {\n",
              "        vertical-align: middle;\n",
              "    }\n",
              "\n",
              "    .dataframe tbody tr th {\n",
              "        vertical-align: top;\n",
              "    }\n",
              "\n",
              "    .dataframe thead th {\n",
              "        text-align: right;\n",
              "    }\n",
              "</style>\n",
              "<table border=\"1\" class=\"dataframe\">\n",
              "  <thead>\n",
              "    <tr style=\"text-align: right;\">\n",
              "      <th></th>\n",
              "      <th>ScreenId</th>\n",
              "      <th>VenueId</th>\n",
              "      <th>City</th>\n",
              "      <th>NumberOfScreens</th>\n",
              "      <th>Date_hour</th>\n",
              "      <th>Date_dayofweek</th>\n",
              "    </tr>\n",
              "  </thead>\n",
              "  <tbody>\n",
              "    <tr>\n",
              "      <th>443029</th>\n",
              "      <td>1337874</td>\n",
              "      <td>72379</td>\n",
              "      <td>1592</td>\n",
              "      <td>-0.132027</td>\n",
              "      <td>-0.959512</td>\n",
              "      <td>-1.519371</td>\n",
              "    </tr>\n",
              "    <tr>\n",
              "      <th>7261</th>\n",
              "      <td>1861</td>\n",
              "      <td>952</td>\n",
              "      <td>189</td>\n",
              "      <td>-0.132027</td>\n",
              "      <td>-0.959512</td>\n",
              "      <td>0.529283</td>\n",
              "    </tr>\n",
              "    <tr>\n",
              "      <th>132203</th>\n",
              "      <td>14150</td>\n",
              "      <td>6932</td>\n",
              "      <td>559</td>\n",
              "      <td>-0.132027</td>\n",
              "      <td>-0.665987</td>\n",
              "      <td>1.553611</td>\n",
              "    </tr>\n",
              "    <tr>\n",
              "      <th>473324</th>\n",
              "      <td>1473709</td>\n",
              "      <td>76596</td>\n",
              "      <td>1241</td>\n",
              "      <td>-0.132027</td>\n",
              "      <td>0.214588</td>\n",
              "      <td>1.553611</td>\n",
              "    </tr>\n",
              "    <tr>\n",
              "      <th>215245</th>\n",
              "      <td>608969</td>\n",
              "      <td>963</td>\n",
              "      <td>189</td>\n",
              "      <td>-0.132027</td>\n",
              "      <td>1.095163</td>\n",
              "      <td>-0.495044</td>\n",
              "    </tr>\n",
              "    <tr>\n",
              "      <th>...</th>\n",
              "      <td>...</td>\n",
              "      <td>...</td>\n",
              "      <td>...</td>\n",
              "      <td>...</td>\n",
              "      <td>...</td>\n",
              "      <td>...</td>\n",
              "    </tr>\n",
              "    <tr>\n",
              "      <th>121660</th>\n",
              "      <td>1282</td>\n",
              "      <td>657</td>\n",
              "      <td>1418</td>\n",
              "      <td>-0.132027</td>\n",
              "      <td>-0.519224</td>\n",
              "      <td>1.041447</td>\n",
              "    </tr>\n",
              "    <tr>\n",
              "      <th>455107</th>\n",
              "      <td>1582053</td>\n",
              "      <td>83808</td>\n",
              "      <td>1592</td>\n",
              "      <td>-0.132027</td>\n",
              "      <td>0.214588</td>\n",
              "      <td>-1.519371</td>\n",
              "    </tr>\n",
              "    <tr>\n",
              "      <th>10052</th>\n",
              "      <td>1617</td>\n",
              "      <td>829</td>\n",
              "      <td>189</td>\n",
              "      <td>-0.132027</td>\n",
              "      <td>1.388688</td>\n",
              "      <td>0.017120</td>\n",
              "    </tr>\n",
              "    <tr>\n",
              "      <th>171794</th>\n",
              "      <td>555065</td>\n",
              "      <td>3041</td>\n",
              "      <td>1418</td>\n",
              "      <td>-0.132027</td>\n",
              "      <td>0.948400</td>\n",
              "      <td>0.017120</td>\n",
              "    </tr>\n",
              "    <tr>\n",
              "      <th>16562</th>\n",
              "      <td>1692</td>\n",
              "      <td>866</td>\n",
              "      <td>189</td>\n",
              "      <td>-0.132027</td>\n",
              "      <td>1.241925</td>\n",
              "      <td>0.017120</td>\n",
              "    </tr>\n",
              "  </tbody>\n",
              "</table>\n",
              "<p>166350 rows × 6 columns</p>\n",
              "</div>\n",
              "      <button class=\"colab-df-convert\" onclick=\"convertToInteractive('df-88b298e3-c406-4b85-9fa6-78e6735169ad')\"\n",
              "              title=\"Convert this dataframe to an interactive table.\"\n",
              "              style=\"display:none;\">\n",
              "        \n",
              "  <svg xmlns=\"http://www.w3.org/2000/svg\" height=\"24px\"viewBox=\"0 0 24 24\"\n",
              "       width=\"24px\">\n",
              "    <path d=\"M0 0h24v24H0V0z\" fill=\"none\"/>\n",
              "    <path d=\"M18.56 5.44l.94 2.06.94-2.06 2.06-.94-2.06-.94-.94-2.06-.94 2.06-2.06.94zm-11 1L8.5 8.5l.94-2.06 2.06-.94-2.06-.94L8.5 2.5l-.94 2.06-2.06.94zm10 10l.94 2.06.94-2.06 2.06-.94-2.06-.94-.94-2.06-.94 2.06-2.06.94z\"/><path d=\"M17.41 7.96l-1.37-1.37c-.4-.4-.92-.59-1.43-.59-.52 0-1.04.2-1.43.59L10.3 9.45l-7.72 7.72c-.78.78-.78 2.05 0 2.83L4 21.41c.39.39.9.59 1.41.59.51 0 1.02-.2 1.41-.59l7.78-7.78 2.81-2.81c.8-.78.8-2.07 0-2.86zM5.41 20L4 18.59l7.72-7.72 1.47 1.35L5.41 20z\"/>\n",
              "  </svg>\n",
              "      </button>\n",
              "      \n",
              "  <style>\n",
              "    .colab-df-container {\n",
              "      display:flex;\n",
              "      flex-wrap:wrap;\n",
              "      gap: 12px;\n",
              "    }\n",
              "\n",
              "    .colab-df-convert {\n",
              "      background-color: #E8F0FE;\n",
              "      border: none;\n",
              "      border-radius: 50%;\n",
              "      cursor: pointer;\n",
              "      display: none;\n",
              "      fill: #1967D2;\n",
              "      height: 32px;\n",
              "      padding: 0 0 0 0;\n",
              "      width: 32px;\n",
              "    }\n",
              "\n",
              "    .colab-df-convert:hover {\n",
              "      background-color: #E2EBFA;\n",
              "      box-shadow: 0px 1px 2px rgba(60, 64, 67, 0.3), 0px 1px 3px 1px rgba(60, 64, 67, 0.15);\n",
              "      fill: #174EA6;\n",
              "    }\n",
              "\n",
              "    [theme=dark] .colab-df-convert {\n",
              "      background-color: #3B4455;\n",
              "      fill: #D2E3FC;\n",
              "    }\n",
              "\n",
              "    [theme=dark] .colab-df-convert:hover {\n",
              "      background-color: #434B5C;\n",
              "      box-shadow: 0px 1px 3px 1px rgba(0, 0, 0, 0.15);\n",
              "      filter: drop-shadow(0px 1px 2px rgba(0, 0, 0, 0.3));\n",
              "      fill: #FFFFFF;\n",
              "    }\n",
              "  </style>\n",
              "\n",
              "      <script>\n",
              "        const buttonEl =\n",
              "          document.querySelector('#df-88b298e3-c406-4b85-9fa6-78e6735169ad button.colab-df-convert');\n",
              "        buttonEl.style.display =\n",
              "          google.colab.kernel.accessAllowed ? 'block' : 'none';\n",
              "\n",
              "        async function convertToInteractive(key) {\n",
              "          const element = document.querySelector('#df-88b298e3-c406-4b85-9fa6-78e6735169ad');\n",
              "          const dataTable =\n",
              "            await google.colab.kernel.invokeFunction('convertToInteractive',\n",
              "                                                     [key], {});\n",
              "          if (!dataTable) return;\n",
              "\n",
              "          const docLinkHtml = 'Like what you see? Visit the ' +\n",
              "            '<a target=\"_blank\" href=https://colab.research.google.com/notebooks/data_table.ipynb>data table notebook</a>'\n",
              "            + ' to learn more about interactive tables.';\n",
              "          element.innerHTML = '';\n",
              "          dataTable['output_type'] = 'display_data';\n",
              "          await google.colab.output.renderOutput(dataTable, element);\n",
              "          const docLink = document.createElement('div');\n",
              "          docLink.innerHTML = docLinkHtml;\n",
              "          element.appendChild(docLink);\n",
              "        }\n",
              "      </script>\n",
              "    </div>\n",
              "  </div>\n",
              "  "
            ],
            "text/plain": [
              "        ScreenId  VenueId  City  NumberOfScreens  Date_hour  Date_dayofweek\n",
              "443029   1337874    72379  1592        -0.132027  -0.959512       -1.519371\n",
              "7261        1861      952   189        -0.132027  -0.959512        0.529283\n",
              "132203     14150     6932   559        -0.132027  -0.665987        1.553611\n",
              "473324   1473709    76596  1241        -0.132027   0.214588        1.553611\n",
              "215245    608969      963   189        -0.132027   1.095163       -0.495044\n",
              "...          ...      ...   ...              ...        ...             ...\n",
              "121660      1282      657  1418        -0.132027  -0.519224        1.041447\n",
              "455107   1582053    83808  1592        -0.132027   0.214588       -1.519371\n",
              "10052       1617      829   189        -0.132027   1.388688        0.017120\n",
              "171794    555065     3041  1418        -0.132027   0.948400        0.017120\n",
              "16562       1692      866   189        -0.132027   1.241925        0.017120\n",
              "\n",
              "[166350 rows x 6 columns]"
            ]
          },
          "metadata": {},
          "execution_count": 10
        }
      ]
    },
    {
      "cell_type": "code",
      "source": [
        "X.dtypes"
      ],
      "metadata": {
        "id": "bBUgp2KO7SS8"
      },
      "execution_count": null,
      "outputs": []
    },
    {
      "cell_type": "code",
      "source": [
        "# cat_selector = make_column_selector(dtype_include=int)\n",
        "# num_selector = make_column_selector(dtype_include=float) # abstract all numerical type\n",
        "# # cat_selector(X)\n",
        "# # num_selector(X)\n",
        "# cat_linear_processor = preprocessing.OneHotEncoder()\n",
        "# num_linear_processor = preprocessing.StandardScaler()\n",
        "\n",
        "# # tuples of the form (transformer, columns)\n",
        "# # preprocessor for linear regressors\n",
        "# linear_preprocessor = make_column_transformer(\n",
        "#     (num_linear_processor, num_selector), \n",
        "#     (cat_linear_processor, cat_selector)\n",
        "# )\n",
        "\n",
        "# # preprocessor for tree regressor\n",
        "# cat_tree_processor = preprocessing.OrdinalEncoder()\n",
        "# tree_preprocessor = make_column_transformer(\n",
        "#     (cat_tree_processor, cat_selector)\n",
        "# )"
      ],
      "metadata": {
        "id": "apmRMb-WdM80"
      },
      "execution_count": null,
      "outputs": []
    },
    {
      "cell_type": "code",
      "source": [
        "DecisionT_model = DecisionTreeRegressor(max_depth=20) # loss function defaults to squared_error\n",
        "lin_model = linear_model.LinearRegression()\n",
        "las_reg = linear_model.LassoCV(alphas=np.arange(1, 10)) # not sure if lasso is good since we probably wouldn't have many useful features. Alphas are set automatically\n",
        "gbdt_model = HistGradientBoostingRegressor()\n",
        "#||y - Xw||^2_2 + alpha * ||w||^2_2, alpha needs to be tuned, defaults: leave-one-out CV and alphas = (0.1, 1.0, 10)\n",
        "\n",
        "estimators = [\n",
        "                ('DT', DecisionT_model),\n",
        "                ('las', las_reg),\n",
        "                ('gbdt',gbdt_model)\n",
        "             ]\n",
        "# stacking a list of regressors and use Ridge regressor as the final regressor \n",
        "reg_ensemble = StackingRegressor(\n",
        "    estimators=estimators,\n",
        "    final_estimator=linear_model.RidgeCV(alphas=np.arange(0.1, 1.0, 10))\n",
        ")\n"
      ],
      "metadata": {
        "id": "V2Igyvb7ehXY"
      },
      "execution_count": null,
      "outputs": []
    },
    {
      "cell_type": "markdown",
      "source": [
        "train and evaluate "
      ],
      "metadata": {
        "id": "-HEHYi0CM2Z7"
      }
    },
    {
      "cell_type": "code",
      "source": [
        "fitted = reg_ensemble.fit(X_train, y_train)\n",
        "y_pred = fitted.predict(X_test)"
      ],
      "metadata": {
        "id": "-HCmOlrF0ezh"
      },
      "execution_count": null,
      "outputs": []
    },
    {
      "cell_type": "code",
      "source": [
        "from sklearn.metrics import mean_squared_error\n",
        "print(mean_squared_error(y_test, y_pred))"
      ],
      "metadata": {
        "id": "W9_SaCvS52ye",
        "colab": {
          "base_uri": "https://localhost:8080/"
        },
        "outputId": "58824e40-244f-4203-b31a-696224bb0f09"
      },
      "execution_count": null,
      "outputs": [
        {
          "output_type": "stream",
          "name": "stdout",
          "text": [
            "104555.00123610173\n"
          ]
        }
      ]
    },
    {
      "cell_type": "code",
      "source": [
        "def adapt_input(json_input):\n",
        "    data = pd.DataFrame(json_input)\n",
        "    data['schedule'] = pd.to_datetime(data['schedule'], format=\"%a-%H\")\n",
        "    assert data['schedule'].isnull().sum() == 0, \"missing Date\"\n",
        "    data['Date_hour'] = data['schedule'].dt.hour\n",
        "    data['Date_dayofweek'] = data['schedule'].dt.dayofweek\n",
        "    return data\n",
        "\n",
        "data = {\n",
        "  \"ScreenId\": [222,323,345],\n",
        "  \"schedule\": [\n",
        "    \"Wed-00\",\n",
        "    \"Wed-01\", \n",
        "    \"Tue-03\", \n",
        "  ]\n",
        "}\n",
        "\n",
        "xx_test = adapt_input(data)"
      ],
      "metadata": {
        "id": "8Z4JX8zaDKvg"
      },
      "execution_count": null,
      "outputs": []
    },
    {
      "cell_type": "code",
      "source": [
        "xx_test"
      ],
      "metadata": {
        "colab": {
          "base_uri": "https://localhost:8080/",
          "height": 144
        },
        "id": "7o8-P3ZqGXn5",
        "outputId": "6ddf5a3f-5ea5-4d43-f196-48e8d8d5d925"
      },
      "execution_count": null,
      "outputs": [
        {
          "output_type": "execute_result",
          "data": {
            "text/html": [
              "\n",
              "  <div id=\"df-ac159aea-e1d0-4906-a96c-b029f311ad12\">\n",
              "    <div class=\"colab-df-container\">\n",
              "      <div>\n",
              "<style scoped>\n",
              "    .dataframe tbody tr th:only-of-type {\n",
              "        vertical-align: middle;\n",
              "    }\n",
              "\n",
              "    .dataframe tbody tr th {\n",
              "        vertical-align: top;\n",
              "    }\n",
              "\n",
              "    .dataframe thead th {\n",
              "        text-align: right;\n",
              "    }\n",
              "</style>\n",
              "<table border=\"1\" class=\"dataframe\">\n",
              "  <thead>\n",
              "    <tr style=\"text-align: right;\">\n",
              "      <th></th>\n",
              "      <th>ScreenId</th>\n",
              "      <th>schedule</th>\n",
              "      <th>Date_hour</th>\n",
              "      <th>Date_dayofweek</th>\n",
              "    </tr>\n",
              "  </thead>\n",
              "  <tbody>\n",
              "    <tr>\n",
              "      <th>0</th>\n",
              "      <td>222</td>\n",
              "      <td>1900-01-01 00:00:00</td>\n",
              "      <td>0</td>\n",
              "      <td>0</td>\n",
              "    </tr>\n",
              "    <tr>\n",
              "      <th>1</th>\n",
              "      <td>323</td>\n",
              "      <td>1900-01-01 01:00:00</td>\n",
              "      <td>1</td>\n",
              "      <td>0</td>\n",
              "    </tr>\n",
              "    <tr>\n",
              "      <th>2</th>\n",
              "      <td>345</td>\n",
              "      <td>1900-01-01 03:00:00</td>\n",
              "      <td>3</td>\n",
              "      <td>0</td>\n",
              "    </tr>\n",
              "  </tbody>\n",
              "</table>\n",
              "</div>\n",
              "      <button class=\"colab-df-convert\" onclick=\"convertToInteractive('df-ac159aea-e1d0-4906-a96c-b029f311ad12')\"\n",
              "              title=\"Convert this dataframe to an interactive table.\"\n",
              "              style=\"display:none;\">\n",
              "        \n",
              "  <svg xmlns=\"http://www.w3.org/2000/svg\" height=\"24px\"viewBox=\"0 0 24 24\"\n",
              "       width=\"24px\">\n",
              "    <path d=\"M0 0h24v24H0V0z\" fill=\"none\"/>\n",
              "    <path d=\"M18.56 5.44l.94 2.06.94-2.06 2.06-.94-2.06-.94-.94-2.06-.94 2.06-2.06.94zm-11 1L8.5 8.5l.94-2.06 2.06-.94-2.06-.94L8.5 2.5l-.94 2.06-2.06.94zm10 10l.94 2.06.94-2.06 2.06-.94-2.06-.94-.94-2.06-.94 2.06-2.06.94z\"/><path d=\"M17.41 7.96l-1.37-1.37c-.4-.4-.92-.59-1.43-.59-.52 0-1.04.2-1.43.59L10.3 9.45l-7.72 7.72c-.78.78-.78 2.05 0 2.83L4 21.41c.39.39.9.59 1.41.59.51 0 1.02-.2 1.41-.59l7.78-7.78 2.81-2.81c.8-.78.8-2.07 0-2.86zM5.41 20L4 18.59l7.72-7.72 1.47 1.35L5.41 20z\"/>\n",
              "  </svg>\n",
              "      </button>\n",
              "      \n",
              "  <style>\n",
              "    .colab-df-container {\n",
              "      display:flex;\n",
              "      flex-wrap:wrap;\n",
              "      gap: 12px;\n",
              "    }\n",
              "\n",
              "    .colab-df-convert {\n",
              "      background-color: #E8F0FE;\n",
              "      border: none;\n",
              "      border-radius: 50%;\n",
              "      cursor: pointer;\n",
              "      display: none;\n",
              "      fill: #1967D2;\n",
              "      height: 32px;\n",
              "      padding: 0 0 0 0;\n",
              "      width: 32px;\n",
              "    }\n",
              "\n",
              "    .colab-df-convert:hover {\n",
              "      background-color: #E2EBFA;\n",
              "      box-shadow: 0px 1px 2px rgba(60, 64, 67, 0.3), 0px 1px 3px 1px rgba(60, 64, 67, 0.15);\n",
              "      fill: #174EA6;\n",
              "    }\n",
              "\n",
              "    [theme=dark] .colab-df-convert {\n",
              "      background-color: #3B4455;\n",
              "      fill: #D2E3FC;\n",
              "    }\n",
              "\n",
              "    [theme=dark] .colab-df-convert:hover {\n",
              "      background-color: #434B5C;\n",
              "      box-shadow: 0px 1px 3px 1px rgba(0, 0, 0, 0.15);\n",
              "      filter: drop-shadow(0px 1px 2px rgba(0, 0, 0, 0.3));\n",
              "      fill: #FFFFFF;\n",
              "    }\n",
              "  </style>\n",
              "\n",
              "      <script>\n",
              "        const buttonEl =\n",
              "          document.querySelector('#df-ac159aea-e1d0-4906-a96c-b029f311ad12 button.colab-df-convert');\n",
              "        buttonEl.style.display =\n",
              "          google.colab.kernel.accessAllowed ? 'block' : 'none';\n",
              "\n",
              "        async function convertToInteractive(key) {\n",
              "          const element = document.querySelector('#df-ac159aea-e1d0-4906-a96c-b029f311ad12');\n",
              "          const dataTable =\n",
              "            await google.colab.kernel.invokeFunction('convertToInteractive',\n",
              "                                                     [key], {});\n",
              "          if (!dataTable) return;\n",
              "\n",
              "          const docLinkHtml = 'Like what you see? Visit the ' +\n",
              "            '<a target=\"_blank\" href=https://colab.research.google.com/notebooks/data_table.ipynb>data table notebook</a>'\n",
              "            + ' to learn more about interactive tables.';\n",
              "          element.innerHTML = '';\n",
              "          dataTable['output_type'] = 'display_data';\n",
              "          await google.colab.output.renderOutput(dataTable, element);\n",
              "          const docLink = document.createElement('div');\n",
              "          docLink.innerHTML = docLinkHtml;\n",
              "          element.appendChild(docLink);\n",
              "        }\n",
              "      </script>\n",
              "    </div>\n",
              "  </div>\n",
              "  "
            ],
            "text/plain": [
              "   ScreenId            schedule  Date_hour  Date_dayofweek\n",
              "0       222 1900-01-01 00:00:00          0               0\n",
              "1       323 1900-01-01 01:00:00          1               0\n",
              "2       345 1900-01-01 03:00:00          3               0"
            ]
          },
          "metadata": {},
          "execution_count": 17
        }
      ]
    },
    {
      "cell_type": "code",
      "source": [
        "# fitted.predict(xx_test)\n",
        "import seaborn as sns\n",
        "from fitter import Fitter, get_common_distributions, get_distributions\n",
        "Venueids = X_train['VenueId'].values\n",
        "City = X_train['City'].values\n",
        "NumberOfScreens = X_train['NumberOfScreens'].values\n"
      ],
      "metadata": {
        "id": "A5Jhk4zNDnme"
      },
      "execution_count": null,
      "outputs": []
    },
    {
      "cell_type": "code",
      "source": [
        "kwargs = dict(alpha=0.5, bins=100)\n",
        "\n",
        "plt.hist(Venueids, **kwargs, color='g', label='Venueids')\n",
        "plt.hist(City, **kwargs, color='b', label='City')\n",
        "plt.hist(NumberOfScreens, **kwargs, color='r', label='NumberOfScreens')\n"
      ],
      "metadata": {
        "colab": {
          "base_uri": "https://localhost:8080/",
          "height": 1000
        },
        "id": "CjTyTG5bIf5m",
        "outputId": "c4ced0d2-1f2c-4831-8882-4491b2688ad5"
      },
      "execution_count": null,
      "outputs": [
        {
          "output_type": "execute_result",
          "data": {
            "text/plain": [
              "(array([3.74036e+05, 4.25400e+03, 0.00000e+00, 1.15500e+03, 0.00000e+00,\n",
              "        4.97000e+03, 0.00000e+00, 6.93000e+02, 6.50000e+02, 0.00000e+00,\n",
              "        2.52000e+02, 0.00000e+00, 8.08000e+02, 0.00000e+00, 1.28000e+02,\n",
              "        1.83000e+02, 0.00000e+00, 6.90000e+01, 0.00000e+00, 5.04000e+02,\n",
              "        0.00000e+00, 3.70000e+01, 8.10000e+01, 0.00000e+00, 5.30000e+01,\n",
              "        0.00000e+00, 6.70000e+01, 0.00000e+00, 1.60000e+01, 5.70000e+01,\n",
              "        0.00000e+00, 5.00000e+00, 0.00000e+00, 0.00000e+00, 0.00000e+00,\n",
              "        2.00000e+00, 5.00000e+00, 0.00000e+00, 0.00000e+00, 0.00000e+00,\n",
              "        6.00000e+00, 0.00000e+00, 7.00000e+00, 1.70000e+01, 0.00000e+00,\n",
              "        1.80000e+01, 0.00000e+00, 0.00000e+00, 0.00000e+00, 1.10000e+01,\n",
              "        8.00000e+00, 0.00000e+00, 0.00000e+00, 0.00000e+00, 2.30000e+01,\n",
              "        0.00000e+00, 0.00000e+00, 0.00000e+00, 0.00000e+00, 1.70000e+01,\n",
              "        0.00000e+00, 0.00000e+00, 0.00000e+00, 0.00000e+00, 0.00000e+00,\n",
              "        0.00000e+00, 0.00000e+00, 0.00000e+00, 2.00000e+00, 0.00000e+00,\n",
              "        0.00000e+00, 0.00000e+00, 0.00000e+00, 5.00000e+00, 0.00000e+00,\n",
              "        0.00000e+00, 0.00000e+00, 0.00000e+00, 0.00000e+00, 0.00000e+00,\n",
              "        0.00000e+00, 0.00000e+00, 0.00000e+00, 0.00000e+00, 0.00000e+00,\n",
              "        0.00000e+00, 0.00000e+00, 0.00000e+00, 0.00000e+00, 0.00000e+00,\n",
              "        0.00000e+00, 0.00000e+00, 0.00000e+00, 0.00000e+00, 0.00000e+00,\n",
              "        0.00000e+00, 0.00000e+00, 0.00000e+00, 0.00000e+00, 8.00000e+00]),\n",
              " array([-0.13202685,  0.43374957,  0.99952598,  1.5653024 ,  2.13107881,\n",
              "         2.69685523,  3.26263164,  3.82840806,  4.39418447,  4.95996089,\n",
              "         5.5257373 ,  6.09151372,  6.65729013,  7.22306654,  7.78884296,\n",
              "         8.35461937,  8.92039579,  9.4861722 , 10.05194862, 10.61772503,\n",
              "        11.18350145, 11.74927786, 12.31505428, 12.88083069, 13.44660711,\n",
              "        14.01238352, 14.57815994, 15.14393635, 15.70971277, 16.27548918,\n",
              "        16.84126559, 17.40704201, 17.97281842, 18.53859484, 19.10437125,\n",
              "        19.67014767, 20.23592408, 20.8017005 , 21.36747691, 21.93325333,\n",
              "        22.49902974, 23.06480616, 23.63058257, 24.19635899, 24.7621354 ,\n",
              "        25.32791181, 25.89368823, 26.45946464, 27.02524106, 27.59101747,\n",
              "        28.15679389, 28.7225703 , 29.28834672, 29.85412313, 30.41989955,\n",
              "        30.98567596, 31.55145238, 32.11722879, 32.68300521, 33.24878162,\n",
              "        33.81455804, 34.38033445, 34.94611086, 35.51188728, 36.07766369,\n",
              "        36.64344011, 37.20921652, 37.77499294, 38.34076935, 38.90654577,\n",
              "        39.47232218, 40.0380986 , 40.60387501, 41.16965143, 41.73542784,\n",
              "        42.30120426, 42.86698067, 43.43275709, 43.9985335 , 44.56430991,\n",
              "        45.13008633, 45.69586274, 46.26163916, 46.82741557, 47.39319199,\n",
              "        47.9589684 , 48.52474482, 49.09052123, 49.65629765, 50.22207406,\n",
              "        50.78785048, 51.35362689, 51.91940331, 52.48517972, 53.05095614,\n",
              "        53.61673255, 54.18250896, 54.74828538, 55.31406179, 55.87983821,\n",
              "        56.44561462]),\n",
              " <a list of 100 Patch objects>)"
            ]
          },
          "metadata": {},
          "execution_count": 19
        },
        {
          "output_type": "display_data",
          "data": {
            "image/png": "[encoded data removed]",
            "text/plain": [
              "<Figure size 576x396 with 1 Axes>"
            ]
          },
          "metadata": {}
        }
      ]
    },
    {
      "cell_type": "code",
      "source": [
        "f = Fitter(NumberOfScreens,\n",
        "           distributions=['gamma',\n",
        "                          'lognorm',\n",
        "                          \"beta\",\n",
        "                          \"burr\",\n",
        "                          \"norm\"])\n",
        "f.fit()\n",
        "f.get_best(method = 'sumsquare_error')"
      ],
      "metadata": {
        "colab": {
          "base_uri": "https://localhost:8080/"
        },
        "id": "kTVcKmExNUqM",
        "outputId": "fc40db90-facd-4cf5-f6d6-fbc33db4d7de"
      },
      "execution_count": null,
      "outputs": [
        {
          "output_type": "stream",
          "name": "stderr",
          "text": [
            "WARNING:root:SKIPPED burr distribution (taking more than 30 seconds)\n"
          ]
        },
        {
          "output_type": "execute_result",
          "data": {
            "text/plain": [
              "{'norm': {'loc': 0.0010705166428561748, 'scale': 1.017857709459232}}"
            ]
          },
          "metadata": {},
          "execution_count": 20
        }
      ]
    },
    {
      "cell_type": "code",
      "source": [
        "xxtest_NumberOfScreens = "
      ],
      "metadata": {
        "id": "3bVRq3M-Nbw0"
      },
      "execution_count": null,
      "outputs": []
    },
    {
      "cell_type": "code",
      "source": [
        "# Prediction\n",
        "# print(\"Before save:\",reg_ensemble.predict(X_test))\n",
        "joblib.dump(reg_ensemble, 'DT_las_gbdt.pkl')"
      ],
      "metadata": {
        "id": "SyHAOKXUXHVz",
        "colab": {
          "base_uri": "https://localhost:8080/"
        },
        "outputId": "8ffd07d7-3436-4fcb-868f-e6d0777d8c21"
      },
      "execution_count": null,
      "outputs": [
        {
          "output_type": "execute_result",
          "data": {
            "text/plain": [
              "['DT_las_gbdt.pkl']"
            ]
          },
          "metadata": {},
          "execution_count": 38
        }
      ]
    },
    {
      "cell_type": "code",
      "source": [
        "my_model = joblib.load('DT_lin_las.pkl') \n",
        "# Use the loaded model to make predictions \n",
        "y_pred = my_model.predict(X_test)\n",
        "print(\"DT_lin_Las MSE:\", mean_squared_error(y_test, y_pred))"
      ],
      "metadata": {
        "colab": {
          "base_uri": "https://localhost:8080/"
        },
        "id": "ETbWE5AOGEI2",
        "outputId": "02d4a6c0-b635-4ac7-ff00-184d9fd623fc"
      },
      "execution_count": null,
      "outputs": [
        {
          "output_type": "stream",
          "name": "stdout",
          "text": [
            "DT_lin_Las MSE: 120310.75912457399\n"
          ]
        }
      ]
    },
    {
      "cell_type": "code",
      "source": [
        "import time\n",
        "import matplotlib.pyplot as plt\n",
        "from sklearn.model_selection import cross_validate, cross_val_predict\n",
        "\n",
        "\n",
        "def plot_regression_results(ax, y_true, y_pred, title, scores, elapsed_time):\n",
        "    \"\"\"Scatter plot of the predicted vs true targets.\"\"\"\n",
        "    ax.plot(\n",
        "        [y_true.min(), y_true.max()], [y_true.min(), y_true.max()], \"--r\", linewidth=2\n",
        "    )\n",
        "    ax.scatter(y_true, y_pred, alpha=0.2)\n",
        "\n",
        "    ax.spines[\"top\"].set_visible(False)\n",
        "    ax.spines[\"right\"].set_visible(False)\n",
        "    ax.get_xaxis().tick_bottom()\n",
        "    ax.get_yaxis().tick_left()\n",
        "    ax.spines[\"left\"].set_position((\"outward\", 10))\n",
        "    ax.spines[\"bottom\"].set_position((\"outward\", 10))\n",
        "    ax.set_xlim([y_true.min(), y_true.max()])\n",
        "    ax.set_ylim([y_true.min(), y_true.max()])\n",
        "    ax.set_xlabel(\"Measured\")\n",
        "    ax.set_ylabel(\"Predicted\")\n",
        "    extra = plt.Rectangle(\n",
        "        (0, 0), 0, 0, fc=\"w\", fill=False, edgecolor=\"none\", linewidth=0\n",
        "    )\n",
        "    ax.legend([extra], [scores], loc=\"upper left\")\n",
        "    title = title + \"\\n Evaluation in {:.2f} seconds\".format(elapsed_time)\n",
        "    ax.set_title(title)\n",
        "\n",
        "\n",
        "fig, axs = plt.subplots(2, 2, figsize=(9, 7))\n",
        "axs = np.ravel(axs)\n",
        "\n",
        "for ax, (name, est) in zip(\n",
        "    axs, estimators + [(\"Stacking Regressor\", reg_ensemble)]\n",
        "):\n",
        "    start_time = time.time()\n",
        "    score = cross_validate(\n",
        "        est, X, y, scoring=[\"r2\", \"neg_mean_absolute_error\"], n_jobs=2, verbose=0\n",
        "    )\n",
        "    elapsed_time = time.time() - start_time\n",
        "\n",
        "    y_pred = cross_val_predict(est, X, y, n_jobs=2, verbose=0)\n",
        "\n",
        "    plot_regression_results(\n",
        "        ax,\n",
        "        y,\n",
        "        y_pred,\n",
        "        name,\n",
        "        (r\"$R^2={:.2f} \\pm {:.2f}$\" + \"\\n\" + r\"$MAE={:.2f} \\pm {:.2f}$\").format(\n",
        "            np.mean(score[\"test_r2\"]),\n",
        "            np.std(score[\"test_r2\"]),\n",
        "            -np.mean(score[\"test_neg_mean_absolute_error\"]),\n",
        "            np.std(score[\"test_neg_mean_absolute_error\"]),\n",
        "        ),\n",
        "        elapsed_time,\n",
        "    )\n",
        "\n",
        "plt.suptitle(\"Single predictors versus stacked predictors\")\n",
        "plt.tight_layout()\n",
        "plt.subplots_adjust(top=0.9)\n",
        "plt.show()\n"
      ],
      "metadata": {
        "id": "HbIO75g-H7Hv"
      },
      "execution_count": null,
      "outputs": []
    },
    {
      "cell_type": "code",
      "source": [
        "# from sklearn.ensemble import AdaBoostRegressor\n",
        "\n",
        "# AdaBR = AdaBoostRegressor(\n",
        "#     DecisionTreeRegressor(max_depth=4), n_estimators=100\n",
        "# )\n",
        "\n",
        "# AdaBR.fit(X_train, y_train)\n",
        "# y_pred = AdaBR.predict(X_test)\n",
        "# print(mean_squared_error(y_test, y_pred))"
      ],
      "metadata": {
        "id": "ovo4sHR47V9F"
      },
      "execution_count": null,
      "outputs": []
    },
    {
      "cell_type": "code",
      "source": [
        "def plot_cv_results(ax, xs, ys, model_name, x_axis_name, y_axis_name, labels):\n",
        "    for x, y, label in zip(xs, ys, labels):\n",
        "      ax.plot(x, y, alpha=0.5, label=label)\n",
        "      \n",
        "    ax.spines[\"top\"].set_visible(False)\n",
        "    ax.spines[\"right\"].set_visible(False)\n",
        "    ax.get_xaxis().tick_bottom()\n",
        "    ax.get_yaxis().tick_left()\n",
        "    ax.spines[\"left\"].set_position((\"outward\", 10))\n",
        "    ax.spines[\"bottom\"].set_position((\"outward\", 10))\n",
        "    ax.set_xlabel(x_axis_name)\n",
        "    ax.set_ylabel(y_axis_name)\n",
        "    ax.legend(loc=\"upper left\")\n",
        "    title = model_name + 'CV'\n",
        "    ax.set_title(title)\n"
      ],
      "metadata": {
        "id": "XZp5llQgWTeo"
      },
      "execution_count": null,
      "outputs": []
    },
    {
      "cell_type": "code",
      "source": [
        "fig, axs = plt.subplots(nrows=1, ncols=1, figsize=(5,5))\n",
        "max_depths = np.arange(5, 60, 5)\n",
        "DT_cv_test_results = []\n",
        "DT_cv_train_results = []\n",
        "for max_depth in max_depths:\n",
        "  DecisionT_model = DecisionTreeRegressor(max_depth=max_depth)\n",
        "  DT_cv_result = cross_validate(DecisionT_model, X, y, \n",
        "                            scoring=['r2'],\n",
        "                            return_train_score=True)\n",
        "  DT_cv_test_results.append(np.mean(DT_cv_result['test_r2']))\n",
        "  DT_cv_train_results.append(np.mean(DT_cv_result['train_r2']))\n",
        "\n",
        "xs = [max_depths, max_depths]\n",
        "ys = [DT_cv_train_results, DT_cv_test_results]\n",
        "plot_cv_results(axs, xs, ys, \"DecisionTree\", \"max_depths\", \"R^2\", [\"train\",\"test\"])\n"
      ],
      "metadata": {
        "id": "xdNKqKvvAV6u"
      },
      "execution_count": null,
      "outputs": []
    },
    {
      "cell_type": "code",
      "source": [
        "fig, axs = plt.subplots(nrows=1, ncols=1, figsize=(5,5))\n",
        "alphas = np.arange(1, 10)\n",
        "Lasso_cv_test_results = []\n",
        "Lasso_cv_train_results = []\n",
        "for alpha in alphas:\n",
        "  Lasso = linear_model.Lasso(alpha)\n",
        "  Lasso_cv_result = cross_validate(Lasso, X, y, \n",
        "                              scoring=['r2'],\n",
        "                              return_train_score=True)\n",
        "  Lasso_cv_test_results.append(np.mean(Lasso_cv_result['test_r2']))\n",
        "  Lasso_cv_train_results.append(np.mean(Lasso_cv_result['train_r2']))  \n",
        "\n",
        "ys = [Lasso_cv_train_results, Lasso_cv_test_results]\n",
        "xs = [alphas, alphas]\n",
        "plot_cv_results(axs, xs, ys, \"Lasso\", \"alphas\", \"R^2\", [\"train\",\"test\"])\n"
      ],
      "metadata": {
        "id": "riu0vC8x0vPM"
      },
      "execution_count": null,
      "outputs": []
    },
    {
      "cell_type": "code",
      "source": [
        "fig, axs = plt.subplots(nrows=1, ncols=1, figsize=(5,5))\n",
        "#linear regression\n",
        "Lin_cv_test_results = []\n",
        "Lin_cv_train_results = []\n",
        "for i in range(10):\n",
        "  Lin_model = linear_model.LinearRegression()\n",
        "  Lin_cv_result = cross_validate(Lin_model, X, y, \n",
        "                              scoring=['r2'],\n",
        "                              return_train_score=True)\n",
        "  Lasso_cv_test_results.append(np.mean(Lin_cv_result['test_r2']))\n",
        "  Lasso_cv_train_results.append(np.mean(Lin_cv_result['train_r2']))  \n",
        "\n",
        "ys = [Lin_cv_train_results, Lin_cv_test_results]\n",
        "xs = [np.linspace(0,10,100), np.linspace(0,10,100)]\n",
        "plot_cv_results(axs, xs, ys, \"Linear\", \"times\", \"R^2\", [\"train\",\"test\"])\n"
      ],
      "metadata": {
        "id": "ny4NrfCD0zHl"
      },
      "execution_count": null,
      "outputs": []
    },
    {
      "cell_type": "code",
      "source": [
        "fig, axs = plt.subplots(nrows=1, ncols=1, figsize=(5,5))\n",
        "#ridge regression\n",
        "alphas = np.arange(1, 10)\n",
        "Ridge_cv_test_results = []\n",
        "Ridge_cv_train_results = []\n",
        "for alpha in alphas:\n",
        "  Ridge = linear_model.Ridge(alpha)\n",
        "  Ridge_cv_result = cross_validate(Ridge, X, y, \n",
        "                              scoring=['r2'],\n",
        "                              return_train_score=True)\n",
        "  Ridge_cv_test_results.append(np.mean(Ridge_cv_result['test_r2']))\n",
        "  Ridge_cv_train_results.append(np.mean(Ridge_cv_result['train_r2']))  \n",
        "\n",
        "ys = [Ridge_cv_train_results, Ridge_cv_test_results]\n",
        "xs = [alphas, alphas]\n",
        "plot_cv_results(axs, xs, ys, \"Ridge\", \"alphas\", \"R^2\", [\"train\",\"test\"])"
      ],
      "metadata": {
        "id": "J6q4eo1301XH"
      },
      "execution_count": null,
      "outputs": []
    }
  ]
}